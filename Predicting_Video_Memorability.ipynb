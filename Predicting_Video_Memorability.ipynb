{
  "nbformat": 4,
  "nbformat_minor": 0,
  "metadata": {
    "colab": {
      "name": "Lalit_Dhupar_19211041_Predicting_Video_Memorability.ipynb",
      "provenance": [],
      "collapsed_sections": [],
      "toc_visible": true
    },
    "kernelspec": {
      "name": "python3",
      "display_name": "Python 3"
    },
    "accelerator": "GPU"
  },
  "cells": [
    {
      "cell_type": "markdown",
      "metadata": {
        "id": "65mPnU6Zc6kR",
        "colab_type": "text"
      },
      "source": [
        "# **Machine Learning Assignment - Media Memorability Assignment** \n",
        "\n",
        "I have used deep learning to train Recurrent Neural Networks (RNN) on the following features as part of the assignment:\n",
        "\n",
        "1.   RNN using Captions feature\n",
        "2.   RNN using C3D feature\n",
        "3.   RNN using HMP feature\n",
        "\n",
        "After training the algorithms, I have compared their Spearman's score to compare their accuracy. Finally, test set predictions are recorded in a .csv file for the best model (with highest Spearman's score).\n",
        "\n",
        "\n"
      ]
    },
    {
      "cell_type": "markdown",
      "metadata": {
        "id": "jKYQ5PcaeBib",
        "colab_type": "text"
      },
      "source": [
        "# **Mounting and accessing the google drive**"
      ]
    },
    {
      "cell_type": "code",
      "metadata": {
        "id": "PCn7Ie4wc0pq",
        "colab_type": "code",
        "outputId": "3785f5c5-9f4d-4ac4-a762-45ebb11e9f3f",
        "colab": {
          "base_uri": "https://localhost:8080/",
          "height": 34
        }
      },
      "source": [
        "from google.colab import drive\n",
        "drive.mount('/content/drive/', force_remount= True)"
      ],
      "execution_count": 0,
      "outputs": [
        {
          "output_type": "stream",
          "text": [
            "Mounted at /content/drive/\n"
          ],
          "name": "stdout"
        }
      ]
    },
    {
      "cell_type": "code",
      "metadata": {
        "id": "sxd3CgnoeK--",
        "colab_type": "code",
        "colab": {}
      },
      "source": [
        "#Accessing the google drive content\n",
        "import os\n",
        "os.chdir(\"/content/drive/My Drive/CA684_Assignment\")"
      ],
      "execution_count": 0,
      "outputs": []
    },
    {
      "cell_type": "markdown",
      "metadata": {
        "id": "_MplVhjdfTk9",
        "colab_type": "text"
      },
      "source": [
        "# **Importing required libraries**"
      ]
    },
    {
      "cell_type": "code",
      "metadata": {
        "id": "kBqOe8CVfQoI",
        "colab_type": "code",
        "outputId": "63730bab-5238-4257-da7a-21b7df01d49c",
        "colab": {
          "base_uri": "https://localhost:8080/",
          "height": 34
        }
      },
      "source": [
        "import pandas as pd\n",
        "import scipy\n",
        "from keras import Sequential\n",
        "from keras import layers\n",
        "from keras import regularizers\n",
        "import numpy as np\n",
        "from string import punctuation\n",
        "from collections import Counter\n",
        "from keras.preprocessing.text import Tokenizer\n",
        "from sklearn.model_selection import train_test_split\n",
        "import matplotlib.pyplot as plt"
      ],
      "execution_count": 0,
      "outputs": [
        {
          "output_type": "stream",
          "text": [
            "Using TensorFlow backend.\n"
          ],
          "name": "stderr"
        }
      ]
    },
    {
      "cell_type": "markdown",
      "metadata": {
        "id": "dMIe0V0afeBK",
        "colab_type": "text"
      },
      "source": [
        "# **Loading captions and memorability scores of the dev set** \n",
        " **Captions** - Each video comes with its original title. These titles can often be seen as a list of tags (textual metadata) that might be useful to infer the memorability of the videos.\n",
        "\n",
        "**Ground Truth** - It contains the following details about the videos:\n",
        "\n",
        "1.   The video's name\n",
        "2.   Short and Long term memorability score\n",
        "3.   Number of annotations that was used to calculate the short and long term memorability score\n",
        "\n",
        "\n",
        "*   A function named \"read_caps\" is defined to load captions into dataframe.\n",
        "*   Ground truth from the dev set is also loaded to use for training the model."
      ]
    },
    {
      "cell_type": "code",
      "metadata": {
        "id": "1Q5HpzfkfYdm",
        "colab_type": "code",
        "colab": {}
      },
      "source": [
        "# loading labels and captions\n",
        "def read_caps(fname):\n",
        "    \"\"\"Load the captions into a dataframe\"\"\"\n",
        "    vn = []\n",
        "    cap = []\n",
        "    df = pd.DataFrame();\n",
        "    with open(fname) as f:\n",
        "        for line in f:\n",
        "            pairs = line.split()\n",
        "            vn.append(pairs[0])\n",
        "            cap.append(pairs[1])\n",
        "        df['video']=vn\n",
        "        df['caption']=cap\n",
        "    return df\n",
        "\n",
        "\n",
        "# load the captions\n",
        "cap_path = '/content/drive/My Drive/CA684_Assignment/Dev-set/Captions/dev-set_video-captions.txt'\n",
        "df_captions=read_caps(cap_path)\n",
        "\n",
        "# load the ground truth values\n",
        "labels=pd.read_csv('/content/drive/My Drive/CA684_Assignment/Dev-set/Ground-truth/ground-truth.csv')"
      ],
      "execution_count": 0,
      "outputs": []
    },
    {
      "cell_type": "code",
      "metadata": {
        "id": "OLWmEhqHfh4t",
        "colab_type": "code",
        "outputId": "e04c14da-be8e-4bbb-a44b-b86beb8e01ac",
        "colab": {
          "base_uri": "https://localhost:8080/",
          "height": 195
        }
      },
      "source": [
        "# Displaying the caption values\n",
        "df_captions.head()"
      ],
      "execution_count": 0,
      "outputs": [
        {
          "output_type": "execute_result",
          "data": {
            "text/html": [
              "<div>\n",
              "<style scoped>\n",
              "    .dataframe tbody tr th:only-of-type {\n",
              "        vertical-align: middle;\n",
              "    }\n",
              "\n",
              "    .dataframe tbody tr th {\n",
              "        vertical-align: top;\n",
              "    }\n",
              "\n",
              "    .dataframe thead th {\n",
              "        text-align: right;\n",
              "    }\n",
              "</style>\n",
              "<table border=\"1\" class=\"dataframe\">\n",
              "  <thead>\n",
              "    <tr style=\"text-align: right;\">\n",
              "      <th></th>\n",
              "      <th>video</th>\n",
              "      <th>caption</th>\n",
              "    </tr>\n",
              "  </thead>\n",
              "  <tbody>\n",
              "    <tr>\n",
              "      <th>0</th>\n",
              "      <td>video3.webm</td>\n",
              "      <td>blonde-woman-is-massaged-tilt-down</td>\n",
              "    </tr>\n",
              "    <tr>\n",
              "      <th>1</th>\n",
              "      <td>video4.webm</td>\n",
              "      <td>roulette-table-spinning-with-ball-in-closeup-shot</td>\n",
              "    </tr>\n",
              "    <tr>\n",
              "      <th>2</th>\n",
              "      <td>video6.webm</td>\n",
              "      <td>khr-gangsters</td>\n",
              "    </tr>\n",
              "    <tr>\n",
              "      <th>3</th>\n",
              "      <td>video8.webm</td>\n",
              "      <td>medical-helicopter-hovers-at-airport</td>\n",
              "    </tr>\n",
              "    <tr>\n",
              "      <th>4</th>\n",
              "      <td>video10.webm</td>\n",
              "      <td>couple-relaxing-on-picnic-crane-shot</td>\n",
              "    </tr>\n",
              "  </tbody>\n",
              "</table>\n",
              "</div>"
            ],
            "text/plain": [
              "          video                                            caption\n",
              "0   video3.webm                 blonde-woman-is-massaged-tilt-down\n",
              "1   video4.webm  roulette-table-spinning-with-ball-in-closeup-shot\n",
              "2   video6.webm                                      khr-gangsters\n",
              "3   video8.webm               medical-helicopter-hovers-at-airport\n",
              "4  video10.webm               couple-relaxing-on-picnic-crane-shot"
            ]
          },
          "metadata": {
            "tags": []
          },
          "execution_count": 5
        }
      ]
    },
    {
      "cell_type": "code",
      "metadata": {
        "id": "JwUCRYjtflSi",
        "colab_type": "code",
        "outputId": "257e8160-bcc0-4a77-f7c0-f3d277c9e6c0",
        "colab": {
          "base_uri": "https://localhost:8080/",
          "height": 195
        }
      },
      "source": [
        "# Displaying the ground truth values\n",
        "labels.head()"
      ],
      "execution_count": 0,
      "outputs": [
        {
          "output_type": "execute_result",
          "data": {
            "text/html": [
              "<div>\n",
              "<style scoped>\n",
              "    .dataframe tbody tr th:only-of-type {\n",
              "        vertical-align: middle;\n",
              "    }\n",
              "\n",
              "    .dataframe tbody tr th {\n",
              "        vertical-align: top;\n",
              "    }\n",
              "\n",
              "    .dataframe thead th {\n",
              "        text-align: right;\n",
              "    }\n",
              "</style>\n",
              "<table border=\"1\" class=\"dataframe\">\n",
              "  <thead>\n",
              "    <tr style=\"text-align: right;\">\n",
              "      <th></th>\n",
              "      <th>video</th>\n",
              "      <th>short-term_memorability</th>\n",
              "      <th>nb_short-term_annotations</th>\n",
              "      <th>long-term_memorability</th>\n",
              "      <th>nb_long-term_annotations</th>\n",
              "    </tr>\n",
              "  </thead>\n",
              "  <tbody>\n",
              "    <tr>\n",
              "      <th>0</th>\n",
              "      <td>video3.webm</td>\n",
              "      <td>0.924</td>\n",
              "      <td>34</td>\n",
              "      <td>0.846</td>\n",
              "      <td>13</td>\n",
              "    </tr>\n",
              "    <tr>\n",
              "      <th>1</th>\n",
              "      <td>video4.webm</td>\n",
              "      <td>0.923</td>\n",
              "      <td>33</td>\n",
              "      <td>0.667</td>\n",
              "      <td>12</td>\n",
              "    </tr>\n",
              "    <tr>\n",
              "      <th>2</th>\n",
              "      <td>video6.webm</td>\n",
              "      <td>0.863</td>\n",
              "      <td>33</td>\n",
              "      <td>0.700</td>\n",
              "      <td>10</td>\n",
              "    </tr>\n",
              "    <tr>\n",
              "      <th>3</th>\n",
              "      <td>video8.webm</td>\n",
              "      <td>0.922</td>\n",
              "      <td>33</td>\n",
              "      <td>0.818</td>\n",
              "      <td>11</td>\n",
              "    </tr>\n",
              "    <tr>\n",
              "      <th>4</th>\n",
              "      <td>video10.webm</td>\n",
              "      <td>0.950</td>\n",
              "      <td>34</td>\n",
              "      <td>0.900</td>\n",
              "      <td>10</td>\n",
              "    </tr>\n",
              "  </tbody>\n",
              "</table>\n",
              "</div>"
            ],
            "text/plain": [
              "          video  ...  nb_long-term_annotations\n",
              "0   video3.webm  ...                        13\n",
              "1   video4.webm  ...                        12\n",
              "2   video6.webm  ...                        10\n",
              "3   video8.webm  ...                        11\n",
              "4  video10.webm  ...                        10\n",
              "\n",
              "[5 rows x 5 columns]"
            ]
          },
          "metadata": {
            "tags": []
          },
          "execution_count": 6
        }
      ]
    },
    {
      "cell_type": "markdown",
      "metadata": {
        "id": "EeTaLMhmfvT9",
        "colab_type": "text"
      },
      "source": [
        "# **Merging captions and memorability scores**"
      ]
    },
    {
      "cell_type": "code",
      "metadata": {
        "id": "jkKZO7hIfnjp",
        "colab_type": "code",
        "outputId": "82de02af-cb80-4ef9-f9a8-d37b46ef0d11",
        "colab": {
          "base_uri": "https://localhost:8080/",
          "height": 229
        }
      },
      "source": [
        "# Merging captions and ground truth using video column\n",
        "df = df_captions.merge(labels,on=[\"video\"],how=\"inner\")\n",
        "df.head()"
      ],
      "execution_count": 0,
      "outputs": [
        {
          "output_type": "execute_result",
          "data": {
            "text/html": [
              "<div>\n",
              "<style scoped>\n",
              "    .dataframe tbody tr th:only-of-type {\n",
              "        vertical-align: middle;\n",
              "    }\n",
              "\n",
              "    .dataframe tbody tr th {\n",
              "        vertical-align: top;\n",
              "    }\n",
              "\n",
              "    .dataframe thead th {\n",
              "        text-align: right;\n",
              "    }\n",
              "</style>\n",
              "<table border=\"1\" class=\"dataframe\">\n",
              "  <thead>\n",
              "    <tr style=\"text-align: right;\">\n",
              "      <th></th>\n",
              "      <th>video</th>\n",
              "      <th>caption</th>\n",
              "      <th>short-term_memorability</th>\n",
              "      <th>nb_short-term_annotations</th>\n",
              "      <th>long-term_memorability</th>\n",
              "      <th>nb_long-term_annotations</th>\n",
              "    </tr>\n",
              "  </thead>\n",
              "  <tbody>\n",
              "    <tr>\n",
              "      <th>0</th>\n",
              "      <td>video3.webm</td>\n",
              "      <td>blonde-woman-is-massaged-tilt-down</td>\n",
              "      <td>0.924</td>\n",
              "      <td>34</td>\n",
              "      <td>0.846</td>\n",
              "      <td>13</td>\n",
              "    </tr>\n",
              "    <tr>\n",
              "      <th>1</th>\n",
              "      <td>video4.webm</td>\n",
              "      <td>roulette-table-spinning-with-ball-in-closeup-shot</td>\n",
              "      <td>0.923</td>\n",
              "      <td>33</td>\n",
              "      <td>0.667</td>\n",
              "      <td>12</td>\n",
              "    </tr>\n",
              "    <tr>\n",
              "      <th>2</th>\n",
              "      <td>video6.webm</td>\n",
              "      <td>khr-gangsters</td>\n",
              "      <td>0.863</td>\n",
              "      <td>33</td>\n",
              "      <td>0.700</td>\n",
              "      <td>10</td>\n",
              "    </tr>\n",
              "    <tr>\n",
              "      <th>3</th>\n",
              "      <td>video8.webm</td>\n",
              "      <td>medical-helicopter-hovers-at-airport</td>\n",
              "      <td>0.922</td>\n",
              "      <td>33</td>\n",
              "      <td>0.818</td>\n",
              "      <td>11</td>\n",
              "    </tr>\n",
              "    <tr>\n",
              "      <th>4</th>\n",
              "      <td>video10.webm</td>\n",
              "      <td>couple-relaxing-on-picnic-crane-shot</td>\n",
              "      <td>0.950</td>\n",
              "      <td>34</td>\n",
              "      <td>0.900</td>\n",
              "      <td>10</td>\n",
              "    </tr>\n",
              "  </tbody>\n",
              "</table>\n",
              "</div>"
            ],
            "text/plain": [
              "          video  ... nb_long-term_annotations\n",
              "0   video3.webm  ...                       13\n",
              "1   video4.webm  ...                       12\n",
              "2   video6.webm  ...                       10\n",
              "3   video8.webm  ...                       11\n",
              "4  video10.webm  ...                       10\n",
              "\n",
              "[5 rows x 6 columns]"
            ]
          },
          "metadata": {
            "tags": []
          },
          "execution_count": 7
        }
      ]
    },
    {
      "cell_type": "markdown",
      "metadata": {
        "id": "WWaWPdgWneAP",
        "colab_type": "text"
      },
      "source": [
        "# **Data Preprocessing** \n",
        "In this we are preprocessing the captions in the following two ways:\n",
        "1.   Replacing all the punctuation with a space\n",
        "2.   Converting all the words to lower case"
      ]
    },
    {
      "cell_type": "code",
      "metadata": {
        "id": "BxPkI_OYnhAm",
        "colab_type": "code",
        "colab": {}
      },
      "source": [
        "# Count the words and remove the punctuations from the captions\n",
        "\n",
        "word_count = Counter()\n",
        "for i, caption in enumerate(df_captions['caption']):\n",
        "  text = ''.join([c if c not in punctuation else ' ' for c in caption]).lower()\n",
        "  df_captions.loc[i, 'caption'] = text\n",
        "  word_count.update(text.split())"
      ],
      "execution_count": 0,
      "outputs": []
    },
    {
      "cell_type": "code",
      "metadata": {
        "id": "EJdv9jI5npuq",
        "colab_type": "code",
        "outputId": "8c5596db-3452-43e7-dde5-26ea3c8142ae",
        "colab": {
          "base_uri": "https://localhost:8080/",
          "height": 195
        }
      },
      "source": [
        "# Displaying the caption values\n",
        "df_captions.head()"
      ],
      "execution_count": 0,
      "outputs": [
        {
          "output_type": "execute_result",
          "data": {
            "text/html": [
              "<div>\n",
              "<style scoped>\n",
              "    .dataframe tbody tr th:only-of-type {\n",
              "        vertical-align: middle;\n",
              "    }\n",
              "\n",
              "    .dataframe tbody tr th {\n",
              "        vertical-align: top;\n",
              "    }\n",
              "\n",
              "    .dataframe thead th {\n",
              "        text-align: right;\n",
              "    }\n",
              "</style>\n",
              "<table border=\"1\" class=\"dataframe\">\n",
              "  <thead>\n",
              "    <tr style=\"text-align: right;\">\n",
              "      <th></th>\n",
              "      <th>video</th>\n",
              "      <th>caption</th>\n",
              "    </tr>\n",
              "  </thead>\n",
              "  <tbody>\n",
              "    <tr>\n",
              "      <th>0</th>\n",
              "      <td>video3.webm</td>\n",
              "      <td>blonde woman is massaged tilt down</td>\n",
              "    </tr>\n",
              "    <tr>\n",
              "      <th>1</th>\n",
              "      <td>video4.webm</td>\n",
              "      <td>roulette table spinning with ball in closeup shot</td>\n",
              "    </tr>\n",
              "    <tr>\n",
              "      <th>2</th>\n",
              "      <td>video6.webm</td>\n",
              "      <td>khr gangsters</td>\n",
              "    </tr>\n",
              "    <tr>\n",
              "      <th>3</th>\n",
              "      <td>video8.webm</td>\n",
              "      <td>medical helicopter hovers at airport</td>\n",
              "    </tr>\n",
              "    <tr>\n",
              "      <th>4</th>\n",
              "      <td>video10.webm</td>\n",
              "      <td>couple relaxing on picnic crane shot</td>\n",
              "    </tr>\n",
              "  </tbody>\n",
              "</table>\n",
              "</div>"
            ],
            "text/plain": [
              "          video                                            caption\n",
              "0   video3.webm                 blonde woman is massaged tilt down\n",
              "1   video4.webm  roulette table spinning with ball in closeup shot\n",
              "2   video6.webm                                      khr gangsters\n",
              "3   video8.webm               medical helicopter hovers at airport\n",
              "4  video10.webm               couple relaxing on picnic crane shot"
            ]
          },
          "metadata": {
            "tags": []
          },
          "execution_count": 9
        }
      ]
    },
    {
      "cell_type": "code",
      "metadata": {
        "id": "H1azADMZn5FO",
        "colab_type": "code",
        "outputId": "ad69e43a-19b7-4278-ca01-4bb7dc3f7e62",
        "colab": {
          "base_uri": "https://localhost:8080/",
          "height": 34
        }
      },
      "source": [
        "len(word_count)"
      ],
      "execution_count": 0,
      "outputs": [
        {
          "output_type": "execute_result",
          "data": {
            "text/plain": [
              "5191"
            ]
          },
          "metadata": {
            "tags": []
          },
          "execution_count": 10
        }
      ]
    },
    {
      "cell_type": "markdown",
      "metadata": {
        "id": "2kU3nLn5oKyy",
        "colab_type": "text"
      },
      "source": [
        "# **Text Mapping** \n",
        "1.   Create a token of length equals to the word_count.\n",
        "2.   Using Keras Tokenizer to to vectorizing captions, by turning each text into either a sequence of integers or into a vector."
      ]
    },
    {
      "cell_type": "code",
      "metadata": {
        "id": "Dfo1xUZpn9ik",
        "colab_type": "code",
        "outputId": "e4fd82d6-1d2c-4103-e485-1ead6850328c",
        "colab": {
          "base_uri": "https://localhost:8080/",
          "height": 34
        }
      },
      "source": [
        "length_token = len(word_count)\n",
        "tokenizer = Tokenizer(num_words= length_token)\n",
        "print(length_token)"
      ],
      "execution_count": 0,
      "outputs": [
        {
          "output_type": "stream",
          "text": [
            "5191\n"
          ],
          "name": "stdout"
        }
      ]
    },
    {
      "cell_type": "code",
      "metadata": {
        "id": "5ZXTPqdLoP4b",
        "colab_type": "code",
        "colab": {}
      },
      "source": [
        "# Tokenizing the captions into integers\n",
        "tokenizer.fit_on_texts(list(df_captions.caption.values))"
      ],
      "execution_count": 0,
      "outputs": []
    },
    {
      "cell_type": "markdown",
      "metadata": {
        "id": "2HvdZnDzoV7Q",
        "colab_type": "text"
      },
      "source": [
        "# **Text to Word Sequence**\n",
        "\n",
        "1.   Converts a text to a sequence of words (or tokens).\n",
        "2.   Returns a list of words (or tokens).\n",
        "\n",
        "This is done to feed the captions as an input to RNN."
      ]
    },
    {
      "cell_type": "code",
      "metadata": {
        "id": "-DDH2xk0oSCP",
        "colab_type": "code",
        "colab": {}
      },
      "source": [
        "sequences = tokenizer.texts_to_sequences(list(df_captions.caption.values))"
      ],
      "execution_count": 0,
      "outputs": []
    },
    {
      "cell_type": "code",
      "metadata": {
        "id": "qHsxCNiaou--",
        "colab_type": "code",
        "outputId": "a737f0a9-faaa-44c4-da43-d0839ea34df6",
        "colab": {
          "base_uri": "https://localhost:8080/",
          "height": 34
        }
      },
      "source": [
        "# Displaying the first value of the sequence\n",
        "sequences[0]"
      ],
      "execution_count": 0,
      "outputs": [
        {
          "output_type": "execute_result",
          "data": {
            "text/plain": [
              "[724, 7, 35, 884, 384, 91]"
            ]
          },
          "metadata": {
            "tags": []
          },
          "execution_count": 14
        }
      ]
    },
    {
      "cell_type": "markdown",
      "metadata": {
        "id": "QwpDeh0uozXt",
        "colab_type": "text"
      },
      "source": [
        "# **Making sequence of same length to ensure the same dimension across all the elements**\n",
        "\n",
        "1.   Setting the length of the sequences to 50"
      ]
    },
    {
      "cell_type": "code",
      "metadata": {
        "id": "0eCttsOhowgj",
        "colab_type": "code",
        "outputId": "925e2227-329e-4e9a-8d2d-ec5b705a90f2",
        "colab": {
          "base_uri": "https://localhost:8080/",
          "height": 34
        }
      },
      "source": [
        "maximum_length = 50\n",
        "X_sequence = np.zeros((len(sequences),maximum_length))\n",
        "for i in range(len(sequences)):\n",
        "  n = len(sequences[i])\n",
        "  if n == 0:\n",
        "    print(i)\n",
        "  else:\n",
        "    X_sequence[i,-n:] = sequences[i]\n",
        "\n",
        "X_sequence.shape"
      ],
      "execution_count": 0,
      "outputs": [
        {
          "output_type": "execute_result",
          "data": {
            "text/plain": [
              "(6000, 50)"
            ]
          },
          "metadata": {
            "tags": []
          },
          "execution_count": 15
        }
      ]
    },
    {
      "cell_type": "markdown",
      "metadata": {
        "id": "xa6exvyjo7W0",
        "colab_type": "text"
      },
      "source": [
        "# **X and Y values of the prediction**\n",
        "\n",
        "1.   sequence is the X variable [Captions]\n",
        "2.   predictor is the Y variable [Memorability scores for short and long terms]"
      ]
    },
    {
      "cell_type": "code",
      "metadata": {
        "id": "3RRNX0yEo4fC",
        "colab_type": "code",
        "colab": {}
      },
      "source": [
        "predictor = labels[['short-term_memorability', 'long-term_memorability']].values\n",
        "Y = predictor\n",
        "X = X_sequence"
      ],
      "execution_count": 0,
      "outputs": []
    },
    {
      "cell_type": "markdown",
      "metadata": {
        "id": "tsEI8G3GpDOk",
        "colab_type": "text"
      },
      "source": [
        "# **Train and Test Split**\n",
        "\n",
        "1.   In this the dataset is splitted into the training and the test set\n",
        "2.   short term and long term scores are the target values\n",
        "\n"
      ]
    },
    {
      "cell_type": "code",
      "metadata": {
        "id": "RahgMbADo_k_",
        "colab_type": "code",
        "colab": {}
      },
      "source": [
        "X_train, X_test, Y_train, Y_test = train_test_split(X,Y, test_size=0.2, random_state=42)"
      ],
      "execution_count": 0,
      "outputs": []
    },
    {
      "cell_type": "code",
      "metadata": {
        "id": "MXmonxdepNHn",
        "colab_type": "code",
        "outputId": "fbce21ee-a30e-4fb6-fbb0-8204f497ea5d",
        "colab": {
          "base_uri": "https://localhost:8080/",
          "height": 84
        }
      },
      "source": [
        "# Displaying the shape of train and test sets\n",
        "print('X_train', X_train.shape)\n",
        "print('X_test', X_test.shape)\n",
        "print('Y_train', Y_train.shape)\n",
        "print('Y_test', Y_test.shape)"
      ],
      "execution_count": 0,
      "outputs": [
        {
          "output_type": "stream",
          "text": [
            "X_train (4800, 50)\n",
            "X_test (1200, 50)\n",
            "Y_train (4800, 2)\n",
            "Y_test (1200, 2)\n"
          ],
          "name": "stdout"
        }
      ]
    },
    {
      "cell_type": "markdown",
      "metadata": {
        "id": "M9OA184EpSHr",
        "colab_type": "text"
      },
      "source": [
        "# **Recurrent Neural Networks (RNN)** \n",
        "\n",
        "1.   Recurrent neural networks (RNN) are a class of neural networks that is powerful for modelling sequence data.\n",
        "2.   Basic RNNs are a network of neuron-like nodes organized into successive layers\n",
        "3.   RNN has an input layer, recurrent network consisting of hidden layers and an output layer\n",
        "3.   RNN layer uses a for loop to iterate over the timesteps of a sequence, while maintaining an internal state that encodes information about the timesteps it has seen so far.\n",
        "\n",
        "\n",
        "![alternate text](https://1.bp.blogspot.com/-i10aNLgDvU0/XoRj14jkORI/AAAAAAAAVWE/Sdg0h8ncBwUfIwCjjTfnaJ8TvGs449sWQCLcBGAsYHQ/s1600/ANN1.png)\n",
        "\n",
        "Reference : https://www.tensorflow.org/guide/keras/rnn"
      ]
    },
    {
      "cell_type": "markdown",
      "metadata": {
        "id": "KP4zpxyQdDfp",
        "colab_type": "text"
      },
      "source": [
        "# **RNN Model using captions feature**\n",
        "The RNN model consists of the following layers:\n",
        "\n",
        "\n",
        "1.   **Embedded Layer** - To create word vectors for incoming words.\n",
        "2.   **Dense Layer** - Dense layer is a regular deeply connected neural network layer. Each neuron receives input from all the neurons in the previous layer.\n",
        "3. **Dropout Layer** - The term “dropout” refers to dropping out units (hidden and visible) in a neural network. It is used to prevent the model from overfitting.\n",
        "\n"
      ]
    },
    {
      "cell_type": "code",
      "metadata": {
        "id": "Mj4qhqHspOuk",
        "colab_type": "code",
        "outputId": "bc1439c2-e2e0-43fa-f17d-27be333da409",
        "colab": {
          "base_uri": "https://localhost:8080/",
          "height": 70
        }
      },
      "source": [
        "#Creating Sequential Neural Network\n",
        "model = Sequential()\n",
        "\n",
        "# Embedded layer for RNN to map the data\n",
        "model.add(layers.Embedding(input_dim= 5191, output_dim= 20, input_length= 50, init = 'uniform'))\n",
        "\n",
        "# Adding LSTM layer with 150 hidden neurons\n",
        "model.add(layers.LSTM(150, activation = 'selu', recurrent_initializer= 'uniform', kernel_initializer= 'zeros', kernel_regularizer=regularizers.l2(0.001)))\n",
        "model.add(layers.Dropout(0.2))\n",
        "\n",
        "# Adding Layers of 30 neurons to map down the 150 hidden neurons\n",
        "model.add(layers.Dense(30, activation= 'selu', kernel_regularizer=regularizers.l2(0.001)))\n",
        "\n",
        "# Dropout Layer\n",
        "model.add(layers.Dropout(0.6))\n",
        "\n",
        "# Output Layer of 2 neurons for each score\n",
        "model.add(layers.Dense(2, activation= 'sigmoid'))\n"
      ],
      "execution_count": 0,
      "outputs": [
        {
          "output_type": "stream",
          "text": [
            "/usr/local/lib/python3.6/dist-packages/ipykernel_launcher.py:4: UserWarning: Update your `Embedding` call to the Keras 2 API: `Embedding(input_dim=5191, output_dim=20, input_length=50, embeddings_initializer=\"uniform\")`\n",
            "  after removing the cwd from sys.path.\n"
          ],
          "name": "stderr"
        }
      ]
    },
    {
      "cell_type": "markdown",
      "metadata": {
        "id": "gI7446a2qEjW",
        "colab_type": "text"
      },
      "source": [
        "# **Compiling the RNN model**\n",
        "Before training a model, compiling of the model need to be done. Arguments passed to the model are below:\n",
        "\n",
        "1. **An optimizer** - It is used to change the attributes of neural network such as weights and learning rate in order to reduce the losses.\n",
        "2. **A loss function** -  It is a method of evaluating how well an algorithm models the given data.\n",
        "3. **Metrics** - It is used to measure the quality of the model\n",
        "\n"
      ]
    },
    {
      "cell_type": "code",
      "metadata": {
        "id": "1uwxK1jDpVmC",
        "colab_type": "code",
        "colab": {}
      },
      "source": [
        "#Compiling the model\n",
        "model.compile(optimizer = 'adamax', loss = 'mse', metrics = ['accuracy'])"
      ],
      "execution_count": 0,
      "outputs": []
    },
    {
      "cell_type": "markdown",
      "metadata": {
        "id": "CRNxKN_Jqn28",
        "colab_type": "text"
      },
      "source": [
        "# **Training the RNN Model on captions**"
      ]
    },
    {
      "cell_type": "code",
      "metadata": {
        "id": "nvdfRZZCqiDu",
        "colab_type": "code",
        "outputId": "970ce2b2-5886-481f-9131-4a725208ed89",
        "colab": {
          "base_uri": "https://localhost:8080/",
          "height": 423
        }
      },
      "source": [
        "Model = model.fit(X_train, Y_train, epochs= 10, validation_data= (X_test, Y_test))"
      ],
      "execution_count": 0,
      "outputs": [
        {
          "output_type": "stream",
          "text": [
            "/usr/local/lib/python3.6/dist-packages/tensorflow/python/framework/indexed_slices.py:434: UserWarning: Converting sparse IndexedSlices to a dense Tensor of unknown shape. This may consume a large amount of memory.\n",
            "  \"Converting sparse IndexedSlices to a dense Tensor of unknown shape. \"\n"
          ],
          "name": "stderr"
        },
        {
          "output_type": "stream",
          "text": [
            "Train on 4800 samples, validate on 1200 samples\n",
            "Epoch 1/10\n",
            "4800/4800 [==============================] - 28s 6ms/step - loss: 0.0517 - accuracy: 0.6677 - val_loss: 0.0333 - val_accuracy: 0.7100\n",
            "Epoch 2/10\n",
            "4800/4800 [==============================] - 27s 6ms/step - loss: 0.0301 - accuracy: 0.6881 - val_loss: 0.0223 - val_accuracy: 0.7100\n",
            "Epoch 3/10\n",
            "4800/4800 [==============================] - 26s 5ms/step - loss: 0.0230 - accuracy: 0.6958 - val_loss: 0.0188 - val_accuracy: 0.7100\n",
            "Epoch 4/10\n",
            "4800/4800 [==============================] - 27s 6ms/step - loss: 0.0202 - accuracy: 0.7008 - val_loss: 0.0163 - val_accuracy: 0.7100\n",
            "Epoch 5/10\n",
            "4800/4800 [==============================] - 27s 6ms/step - loss: 0.0184 - accuracy: 0.6992 - val_loss: 0.0152 - val_accuracy: 0.7100\n",
            "Epoch 6/10\n",
            "4800/4800 [==============================] - 27s 6ms/step - loss: 0.0171 - accuracy: 0.7002 - val_loss: 0.0148 - val_accuracy: 0.7100\n",
            "Epoch 7/10\n",
            "4800/4800 [==============================] - 27s 6ms/step - loss: 0.0164 - accuracy: 0.7033 - val_loss: 0.0147 - val_accuracy: 0.7100\n",
            "Epoch 8/10\n",
            "4800/4800 [==============================] - 27s 6ms/step - loss: 0.0157 - accuracy: 0.7029 - val_loss: 0.0146 - val_accuracy: 0.7100\n",
            "Epoch 9/10\n",
            "4800/4800 [==============================] - 26s 5ms/step - loss: 0.0151 - accuracy: 0.7031 - val_loss: 0.0141 - val_accuracy: 0.7100\n",
            "Epoch 10/10\n",
            "4800/4800 [==============================] - 26s 5ms/step - loss: 0.0143 - accuracy: 0.7033 - val_loss: 0.0140 - val_accuracy: 0.7100\n"
          ],
          "name": "stdout"
        }
      ]
    },
    {
      "cell_type": "markdown",
      "metadata": {
        "id": "zh5hLdvgqvKS",
        "colab_type": "text"
      },
      "source": [
        "# **Vizualizing the model**\n",
        "\n",
        "\n",
        "1.   Plotting the graph of training loss and validation loss\n",
        "2.   Plotting the graph of training accuracy and validation accuracy\n",
        "\n"
      ]
    },
    {
      "cell_type": "code",
      "metadata": {
        "id": "USSRR5PFqrjE",
        "colab_type": "code",
        "outputId": "2a85f61f-4411-4afd-d658-ccf5f0c1a331",
        "colab": {
          "base_uri": "https://localhost:8080/",
          "height": 573
        }
      },
      "source": [
        "loss =Model.history['loss']\n",
        "val_loss = Model.history['val_loss']\n",
        "epochs = range(1, len(loss) + 1)\n",
        "plt.plot(epochs,loss,'bo',label='Training loss')\n",
        "plt.plot(epochs,val_loss,'b',label='Validation loss')\n",
        "plt.title('Training and Validation loss of RNN')\n",
        "plt.xlabel('Epochs')\n",
        "\n",
        "plt.ylabel('Loss')\n",
        "plt.legend()\n",
        "plt.show()\n",
        "\n",
        "plt.figure()\n",
        "acc = Model.history['accuracy']\n",
        "val_acc = Model.history['val_accuracy']\n",
        "plt.plot(epochs, acc, 'bo', label='Training accuracy')\n",
        "plt.plot(epochs, val_acc, 'b', label='Validation accuracy')\n",
        "plt.title('Training and validation accuracy of RNN')\n",
        "plt.xlabel('Epochs')\n",
        "plt.ylabel('Accuracy')\n",
        "plt.legend()\n",
        "plt.show()"
      ],
      "execution_count": 0,
      "outputs": [
        {
          "output_type": "display_data",
          "data": {
            "image/png": "[encoded data removed]",
            "text/plain": [
              "<Figure size 432x288 with 1 Axes>"
            ]
          },
          "metadata": {
            "tags": [],
            "needs_background": "light"
          }
        },
        {
          "output_type": "display_data",
          "data": {
            "image/png": "[encoded data removed]",
            "text/plain": [
              "<Figure size 432x288 with 1 Axes>"
            ]
          },
          "metadata": {
            "tags": [],
            "needs_background": "light"
          }
        }
      ]
    },
    {
      "cell_type": "markdown",
      "metadata": {
        "id": "Q6pJUJrsrI1H",
        "colab_type": "text"
      },
      "source": [
        "# **Predicting the values on the model trained**"
      ]
    },
    {
      "cell_type": "code",
      "metadata": {
        "id": "6Uw0BJ1JrSoR",
        "colab_type": "code",
        "outputId": "d40288db-d9ee-453f-88f2-eb7777a03849",
        "colab": {
          "base_uri": "https://localhost:8080/",
          "height": 34
        }
      },
      "source": [
        "predictions = model.predict(X_test)\n",
        "predictions.shape"
      ],
      "execution_count": 0,
      "outputs": [
        {
          "output_type": "execute_result",
          "data": {
            "text/plain": [
              "(1200, 2)"
            ]
          },
          "metadata": {
            "tags": []
          },
          "execution_count": 23
        }
      ]
    },
    {
      "cell_type": "code",
      "metadata": {
        "id": "luJHnh6IrPJH",
        "colab_type": "code",
        "outputId": "cac8cf3c-500f-4bb4-e2c6-de6b8b15f05e",
        "colab": {
          "base_uri": "https://localhost:8080/",
          "height": 134
        }
      },
      "source": [
        "# Displaying the prediction variable values\n",
        "predictions"
      ],
      "execution_count": 0,
      "outputs": [
        {
          "output_type": "execute_result",
          "data": {
            "text/plain": [
              "array([[0.88956624, 0.80048025],\n",
              "       [0.8715183 , 0.781638  ],\n",
              "       [0.90953326, 0.8235122 ],\n",
              "       ...,\n",
              "       [0.8973002 , 0.8099296 ],\n",
              "       [0.89608955, 0.80901045],\n",
              "       [0.84376425, 0.7540041 ]], dtype=float32)"
            ]
          },
          "metadata": {
            "tags": []
          },
          "execution_count": 24
        }
      ]
    },
    {
      "cell_type": "markdown",
      "metadata": {
        "id": "E0OE90-XrjEk",
        "colab_type": "text"
      },
      "source": [
        "# **Spearman Score calculation for the model**\n",
        "\n",
        " \n",
        "\n",
        "1.   It assesses how well the relationship between two variables can be described using a monotonic function.\n",
        "2.   A perfect Spearman correlation of +1 or −1 occurs when each of the variables is a perfect monotone function of the other\n",
        "\n"
      ]
    },
    {
      "cell_type": "code",
      "metadata": {
        "id": "xmpPPNeqrVOT",
        "colab_type": "code",
        "outputId": "4db94bef-d5ac-4cff-d561-0239e889d2e0",
        "colab": {
          "base_uri": "https://localhost:8080/",
          "height": 118
        }
      },
      "source": [
        "Spearman_Coefficient = scipy.stats.spearmanr(predictions, Y_test)[0]\n",
        "print(Spearman_Coefficient)\n",
        "print(\"Short-term:\", Spearman_Coefficient[2][1])\n",
        "print(\"Long-term:\", Spearman_Coefficient[3][1])"
      ],
      "execution_count": 0,
      "outputs": [
        {
          "output_type": "stream",
          "text": [
            "[[1.         0.99992805 0.43056131 0.20752539]\n",
            " [0.99992805 1.         0.43039791 0.20711713]\n",
            " [0.43056131 0.43039791 1.         0.34074423]\n",
            " [0.20752539 0.20711713 0.34074423 1.        ]]\n",
            "Short-term: 0.430397907611392\n",
            "Long-term: 0.20711713473286936\n"
          ],
          "name": "stdout"
        }
      ]
    },
    {
      "cell_type": "markdown",
      "metadata": {
        "id": "r0N-awhKqeoZ",
        "colab_type": "text"
      },
      "source": [
        "# **RNN model using C3D Features**\n",
        "\n",
        "\n"
      ]
    },
    {
      "cell_type": "markdown",
      "metadata": {
        "id": "6BSImmZcn8bS",
        "colab_type": "text"
      },
      "source": [
        "# **Loading C3D features of the dev set**\n",
        "\n",
        "**C3D Features**\n",
        "\n",
        "1.   Outputs: the final classification layer of the C3D model\n",
        "2.   File format: text file\n",
        "3.   Feature: a single list of numbers on one line (dimension = 101)\n",
        "\n",
        "*   A function named \"read_C3D\" is defined to load captions into dataframe.\n",
        "\n"
      ]
    },
    {
      "cell_type": "code",
      "metadata": {
        "id": "l3P_kkJBqhAT",
        "colab_type": "code",
        "colab": {}
      },
      "source": [
        "# loading c3d feature\n",
        "def read_C3D(fname):\n",
        "    \"\"\"Scan vectors from file\"\"\"\n",
        "    with open(fname) as f:\n",
        "        for line in f:\n",
        "            C3D =[float(item) for item in line.split()] # convert to float type, using default separator\n",
        "    return C3D\n",
        "\n",
        "def vname2ID(vnames):\n",
        "    \"\"\"Parse video digital id from its name\n",
        "    vnames: a list contains file names\"\"\"\n",
        "    vid = [ os.path.splitext(vn)[0]+'.webm' for vn in vnames]\n",
        "    return vid"
      ],
      "execution_count": 0,
      "outputs": []
    },
    {
      "cell_type": "code",
      "metadata": {
        "id": "cFpctvPqqmyu",
        "colab_type": "code",
        "colab": {}
      },
      "source": [
        "# load the c3d feature\n",
        "C3D_Feat_path = '/content/drive/My Drive/CA684_Assignment/Dev-set/'\n",
        "# Load video related features first\n",
        "# it helps with the organization of the video names\n",
        "vid = labels.video.values\n",
        "\n",
        "C3D_Features = pd.DataFrame({'video': vid,\n",
        "                   'C3D': [read_C3D(C3D_Feat_path+'C3D'+'/'+os.path.splitext(item)[0]+'.txt') for item in vid],\n",
        "                       })"
      ],
      "execution_count": 0,
      "outputs": []
    },
    {
      "cell_type": "code",
      "metadata": {
        "id": "20J9H3mipFWn",
        "colab_type": "code",
        "outputId": "e47741a6-8b5e-4f53-8069-46c505a8ff2d",
        "colab": {
          "base_uri": "https://localhost:8080/",
          "height": 195
        }
      },
      "source": [
        "# Displaying the C3D features\n",
        "C3D_Features.head()"
      ],
      "execution_count": 0,
      "outputs": [
        {
          "output_type": "execute_result",
          "data": {
            "text/html": [
              "<div>\n",
              "<style scoped>\n",
              "    .dataframe tbody tr th:only-of-type {\n",
              "        vertical-align: middle;\n",
              "    }\n",
              "\n",
              "    .dataframe tbody tr th {\n",
              "        vertical-align: top;\n",
              "    }\n",
              "\n",
              "    .dataframe thead th {\n",
              "        text-align: right;\n",
              "    }\n",
              "</style>\n",
              "<table border=\"1\" class=\"dataframe\">\n",
              "  <thead>\n",
              "    <tr style=\"text-align: right;\">\n",
              "      <th></th>\n",
              "      <th>video</th>\n",
              "      <th>C3D</th>\n",
              "    </tr>\n",
              "  </thead>\n",
              "  <tbody>\n",
              "    <tr>\n",
              "      <th>0</th>\n",
              "      <td>video3.webm</td>\n",
              "      <td>[0.02024942, 0.0015778, 0.00082625, 0.00094509...</td>\n",
              "    </tr>\n",
              "    <tr>\n",
              "      <th>1</th>\n",
              "      <td>video4.webm</td>\n",
              "      <td>[0.000118, 0.00089075, 0.00018769, 4.543e-05, ...</td>\n",
              "    </tr>\n",
              "    <tr>\n",
              "      <th>2</th>\n",
              "      <td>video6.webm</td>\n",
              "      <td>[0.01176522, 0.00074577, 0.00078353, 1.328e-05...</td>\n",
              "    </tr>\n",
              "    <tr>\n",
              "      <th>3</th>\n",
              "      <td>video8.webm</td>\n",
              "      <td>[0.00022343, 0.00016499, 7.35e-06, 1.615e-05, ...</td>\n",
              "    </tr>\n",
              "    <tr>\n",
              "      <th>4</th>\n",
              "      <td>video10.webm</td>\n",
              "      <td>[9.006e-05, 0.00061494, 0.00343634, 0.00128092...</td>\n",
              "    </tr>\n",
              "  </tbody>\n",
              "</table>\n",
              "</div>"
            ],
            "text/plain": [
              "          video                                                C3D\n",
              "0   video3.webm  [0.02024942, 0.0015778, 0.00082625, 0.00094509...\n",
              "1   video4.webm  [0.000118, 0.00089075, 0.00018769, 4.543e-05, ...\n",
              "2   video6.webm  [0.01176522, 0.00074577, 0.00078353, 1.328e-05...\n",
              "3   video8.webm  [0.00022343, 0.00016499, 7.35e-06, 1.615e-05, ...\n",
              "4  video10.webm  [9.006e-05, 0.00061494, 0.00343634, 0.00128092..."
            ]
          },
          "metadata": {
            "tags": []
          },
          "execution_count": 28
        }
      ]
    },
    {
      "cell_type": "markdown",
      "metadata": {
        "id": "W03Cpl7UpcGO",
        "colab_type": "text"
      },
      "source": [
        "# **X and Y values of the prediction**\n",
        "\n",
        "1.   C3D feature is the X variable [Captions]\n",
        "2.   predictor is the Y variable [Memorability scores for short and long terms]"
      ]
    },
    {
      "cell_type": "code",
      "metadata": {
        "id": "71UE0q6kqtgg",
        "colab_type": "code",
        "colab": {}
      },
      "source": [
        "predictor = labels[['short-term_memorability', 'long-term_memorability']].values\n",
        "C3D_Y = predictor\n",
        "C3D_X = np.stack(C3D_Features['C3D'].values)"
      ],
      "execution_count": 0,
      "outputs": []
    },
    {
      "cell_type": "markdown",
      "metadata": {
        "id": "yGdvOMS9prHt",
        "colab_type": "text"
      },
      "source": [
        "# **Train and Test Split**\n",
        "\n",
        "1.   In this the dataset is splitted into the training and the test set\n",
        "2.   short term and long term scores are the target values\n"
      ]
    },
    {
      "cell_type": "code",
      "metadata": {
        "id": "wRXmio7pquho",
        "colab_type": "code",
        "colab": {}
      },
      "source": [
        "C3D_X_train, C3D_X_test, C3D_Y_train, C3D_Y_test = train_test_split(C3D_X,C3D_Y, test_size=0.2, random_state=42)"
      ],
      "execution_count": 0,
      "outputs": []
    },
    {
      "cell_type": "code",
      "metadata": {
        "id": "VwW8mXV9qEWl",
        "colab_type": "code",
        "outputId": "057bc9dd-7398-4e84-dfe0-8dcafcd477ed",
        "colab": {
          "base_uri": "https://localhost:8080/",
          "height": 84
        }
      },
      "source": [
        "# Displaying the shape of train and test sets\n",
        "print('X_train', C3D_X_train.shape)\n",
        "print('X_test', C3D_X_test.shape)\n",
        "print('Y_train', C3D_Y_train.shape)\n",
        "print('Y_test', C3D_Y_test.shape)"
      ],
      "execution_count": 0,
      "outputs": [
        {
          "output_type": "stream",
          "text": [
            "X_train (4800, 101)\n",
            "X_test (1200, 101)\n",
            "Y_train (4800, 2)\n",
            "Y_test (1200, 2)\n"
          ],
          "name": "stdout"
        }
      ]
    },
    {
      "cell_type": "markdown",
      "metadata": {
        "id": "9IOFT2z7p3CK",
        "colab_type": "text"
      },
      "source": [
        "# **RNN model building using C3D feature**"
      ]
    },
    {
      "cell_type": "code",
      "metadata": {
        "id": "J68z-fhQ5Z42",
        "colab_type": "code",
        "colab": {}
      },
      "source": [
        "# Creating Sequential Neural Network\n",
        "C3D_model = Sequential()\n",
        "\n",
        "# Adding Layers of 200 neurons\n",
        "C3D_model.add(layers.Dense(200,activation='relu',kernel_regularizer=None,input_shape=(C3D_X.shape[1],)))\n",
        "\n",
        "# Dropout layer\n",
        "C3D_model.add(layers.Dropout(0.1))\n",
        "\n",
        "# Output Layer of 2 neurons for each score\n",
        "C3D_model.add(layers.Dense(2,activation='sigmoid'))"
      ],
      "execution_count": 0,
      "outputs": []
    },
    {
      "cell_type": "markdown",
      "metadata": {
        "id": "jNsTZK0IqqMw",
        "colab_type": "text"
      },
      "source": [
        "# **Compiling the RNN model**\n",
        "Before training a model, compiling of the model need to be done. Arguments passed to the model are below:\n",
        "\n",
        "1. An optimizer\n",
        "2. A loss function \n",
        "3. Metrics"
      ]
    },
    {
      "cell_type": "code",
      "metadata": {
        "id": "80COKzPN6j5v",
        "colab_type": "code",
        "colab": {}
      },
      "source": [
        "#compiling the model\n",
        "C3D_model.compile(optimizer = 'adamax', loss = 'mse', metrics = ['accuracy'])"
      ],
      "execution_count": 0,
      "outputs": []
    },
    {
      "cell_type": "markdown",
      "metadata": {
        "id": "MI5VWJMmrDeV",
        "colab_type": "text"
      },
      "source": [
        "# **Training the RNN Model on C3D**"
      ]
    },
    {
      "cell_type": "code",
      "metadata": {
        "id": "yHvfp4qk7Jvk",
        "colab_type": "code",
        "outputId": "80fee0b2-48a8-4c59-905e-3aaa5d6db009",
        "colab": {
          "base_uri": "https://localhost:8080/",
          "height": 370
        }
      },
      "source": [
        "history=C3D_model.fit(x=C3D_X_train,y=C3D_Y_train,batch_size=50,epochs=10,validation_split=0.2,shuffle=True,verbose=True)"
      ],
      "execution_count": 0,
      "outputs": [
        {
          "output_type": "stream",
          "text": [
            "Train on 3840 samples, validate on 960 samples\n",
            "Epoch 1/10\n",
            "3840/3840 [==============================] - 0s 88us/step - loss: 0.0382 - accuracy: 0.6964 - val_loss: 0.0133 - val_accuracy: 0.6812\n",
            "Epoch 2/10\n",
            "3840/3840 [==============================] - 0s 71us/step - loss: 0.0135 - accuracy: 0.7091 - val_loss: 0.0132 - val_accuracy: 0.6812\n",
            "Epoch 3/10\n",
            "3840/3840 [==============================] - 0s 65us/step - loss: 0.0133 - accuracy: 0.7091 - val_loss: 0.0131 - val_accuracy: 0.6812\n",
            "Epoch 4/10\n",
            "3840/3840 [==============================] - 0s 71us/step - loss: 0.0131 - accuracy: 0.7091 - val_loss: 0.0131 - val_accuracy: 0.6812\n",
            "Epoch 5/10\n",
            "3840/3840 [==============================] - 0s 70us/step - loss: 0.0131 - accuracy: 0.7091 - val_loss: 0.0132 - val_accuracy: 0.6812\n",
            "Epoch 6/10\n",
            "3840/3840 [==============================] - 0s 67us/step - loss: 0.0131 - accuracy: 0.7091 - val_loss: 0.0132 - val_accuracy: 0.6812\n",
            "Epoch 7/10\n",
            "3840/3840 [==============================] - 0s 69us/step - loss: 0.0131 - accuracy: 0.7091 - val_loss: 0.0132 - val_accuracy: 0.6812\n",
            "Epoch 8/10\n",
            "3840/3840 [==============================] - 0s 72us/step - loss: 0.0130 - accuracy: 0.7091 - val_loss: 0.0132 - val_accuracy: 0.6812\n",
            "Epoch 9/10\n",
            "3840/3840 [==============================] - 0s 70us/step - loss: 0.0130 - accuracy: 0.7091 - val_loss: 0.0132 - val_accuracy: 0.6812\n",
            "Epoch 10/10\n",
            "3840/3840 [==============================] - 0s 63us/step - loss: 0.0130 - accuracy: 0.7091 - val_loss: 0.0131 - val_accuracy: 0.6812\n"
          ],
          "name": "stdout"
        }
      ]
    },
    {
      "cell_type": "markdown",
      "metadata": {
        "id": "9jmi61PXrTl1",
        "colab_type": "text"
      },
      "source": [
        "# **Vizualizing the model**\n",
        "\n",
        "\n",
        "1.   Plotting the graph of training loss and validation loss\n",
        "2.   Plotting the graph of training accuracy and validation accuracy"
      ]
    },
    {
      "cell_type": "code",
      "metadata": {
        "id": "1oIJc7SYrVLS",
        "colab_type": "code",
        "outputId": "8fd6fe42-9844-4717-9492-80ca9a26fdba",
        "colab": {
          "base_uri": "https://localhost:8080/",
          "height": 573
        }
      },
      "source": [
        "loss =history.history['loss']\n",
        "val_loss = history.history['val_loss']\n",
        "epochs = range(1, len(loss) + 1)\n",
        "plt.plot(epochs,loss,'bo',label='Training loss')\n",
        "plt.plot(epochs,val_loss,'b',label='Validation loss')\n",
        "plt.title('Training and Validation loss of RNN')\n",
        "plt.xlabel('Epochs')\n",
        "\n",
        "plt.ylabel('Loss')\n",
        "plt.legend()\n",
        "plt.show()\n",
        "\n",
        "plt.figure()\n",
        "acc = history.history['accuracy']\n",
        "val_acc = history.history['val_accuracy']\n",
        "plt.plot(epochs, acc, 'bo', label='Training accuracy')\n",
        "plt.plot(epochs, val_acc, 'b', label='Validation accuracy')\n",
        "plt.title('Training and validation accuracy of RNN')\n",
        "plt.xlabel('Epochs')\n",
        "plt.ylabel('Accuracy')\n",
        "plt.legend()\n",
        "plt.show()"
      ],
      "execution_count": 0,
      "outputs": [
        {
          "output_type": "display_data",
          "data": {
            "image/png": "[encoded data removed]",
            "text/plain": [
              "<Figure size 432x288 with 1 Axes>"
            ]
          },
          "metadata": {
            "tags": [],
            "needs_background": "light"
          }
        },
        {
          "output_type": "display_data",
          "data": {
            "image/png": "[encoded data removed]",
            "text/plain": [
              "<Figure size 432x288 with 1 Axes>"
            ]
          },
          "metadata": {
            "tags": [],
            "needs_background": "light"
          }
        }
      ]
    },
    {
      "cell_type": "markdown",
      "metadata": {
        "id": "bJcX-o14rxSk",
        "colab_type": "text"
      },
      "source": [
        "# **Predicting the values on the model trained**"
      ]
    },
    {
      "cell_type": "code",
      "metadata": {
        "id": "EBeo72wJ7aWI",
        "colab_type": "code",
        "outputId": "70f8253c-536a-45b7-edb8-a2c45b3c9d97",
        "colab": {
          "base_uri": "https://localhost:8080/",
          "height": 34
        }
      },
      "source": [
        "C3D_Y_pred = C3D_model.predict(C3D_X_test)\n",
        "C3D_Y_pred.shape"
      ],
      "execution_count": 0,
      "outputs": [
        {
          "output_type": "execute_result",
          "data": {
            "text/plain": [
              "(1200, 2)"
            ]
          },
          "metadata": {
            "tags": []
          },
          "execution_count": 36
        }
      ]
    },
    {
      "cell_type": "code",
      "metadata": {
        "id": "pn_Sgt_YsEmp",
        "colab_type": "code",
        "outputId": "2a4e71aa-54a6-462a-8169-3766796ab866",
        "colab": {
          "base_uri": "https://localhost:8080/",
          "height": 134
        }
      },
      "source": [
        "# Displaying the results\n",
        "C3D_Y_pred"
      ],
      "execution_count": 0,
      "outputs": [
        {
          "output_type": "execute_result",
          "data": {
            "text/plain": [
              "array([[0.88330024, 0.7894315 ],\n",
              "       [0.840714  , 0.75976825],\n",
              "       [0.8874914 , 0.8142437 ],\n",
              "       ...,\n",
              "       [0.8972835 , 0.8296395 ],\n",
              "       [0.89709806, 0.81848305],\n",
              "       [0.8782381 , 0.79364616]], dtype=float32)"
            ]
          },
          "metadata": {
            "tags": []
          },
          "execution_count": 37
        }
      ]
    },
    {
      "cell_type": "markdown",
      "metadata": {
        "id": "xS5-mwIDsUu9",
        "colab_type": "text"
      },
      "source": [
        "# **Spearman Score calculation for the model**"
      ]
    },
    {
      "cell_type": "code",
      "metadata": {
        "id": "-vfdV7Qc7qJq",
        "colab_type": "code",
        "outputId": "64730072-28a2-4001-acfa-1b1c8e325062",
        "colab": {
          "base_uri": "https://localhost:8080/",
          "height": 118
        }
      },
      "source": [
        "Spearman_Coefficient = scipy.stats.spearmanr(C3D_Y_pred, C3D_Y_test)[0]\n",
        "print(Spearman_Coefficient)\n",
        "print(\"Short-term:\", Spearman_Coefficient[2][1])\n",
        "print(\"Long-term:\", Spearman_Coefficient[3][1])"
      ],
      "execution_count": 0,
      "outputs": [
        {
          "output_type": "stream",
          "text": [
            "[[1.         0.89566684 0.27991847 0.11897203]\n",
            " [0.89566684 1.         0.24766226 0.11958639]\n",
            " [0.27991847 0.24766226 1.         0.34074423]\n",
            " [0.11897203 0.11958639 0.34074423 1.        ]]\n",
            "Short-term: 0.2476622575460811\n",
            "Long-term: 0.11958639106728958\n"
          ],
          "name": "stdout"
        }
      ]
    },
    {
      "cell_type": "markdown",
      "metadata": {
        "id": "MYyS96hosQaP",
        "colab_type": "text"
      },
      "source": [
        "# **RNN model using HMP Features**"
      ]
    },
    {
      "cell_type": "markdown",
      "metadata": {
        "id": "1ptgdSJ0stKj",
        "colab_type": "text"
      },
      "source": [
        "# **Loading HMP features of the dev set**\n",
        "\n",
        "**HMP Features**\n",
        "\n",
        "1.   Outputs: the histogram of motion patterns for each video\n",
        "2.   File format: text file\n",
        "3.   Feature: a single list of pairs of numbers with format: bin:number (dimension = 6075) on one line\n",
        "*   A function named \"read_HMP\" is defined to load captions into dataframe."
      ]
    },
    {
      "cell_type": "code",
      "metadata": {
        "id": "QUir03Q6rsau",
        "colab_type": "code",
        "colab": {}
      },
      "source": [
        "# loading HMP feature\n",
        "def read_HMP(fname):\n",
        "    \"\"\"Scan HMP(Histogram of Motion Patterns) features from file\"\"\"\n",
        "    with open(fname) as f:\n",
        "        for line in f:\n",
        "            pairs=line.split()\n",
        "            HMP_temp = { int(p.split(':')[0]) : float(p.split(':')[1]) for p in pairs}\n",
        "    # there are 6075 bins, fill zeros\n",
        "    HMP = np.zeros(6075)\n",
        "    for idx in HMP_temp.keys():\n",
        "        HMP[idx-1] = HMP_temp[idx]            \n",
        "    return HMP"
      ],
      "execution_count": 0,
      "outputs": []
    },
    {
      "cell_type": "code",
      "metadata": {
        "id": "PDVwVcRlsTog",
        "colab_type": "code",
        "colab": {}
      },
      "source": [
        "# Load HMP feature from the dev set\n",
        "HMP_Feat_path = '/content/drive/My Drive/CA684_Assignment/Dev-set/'\n",
        "# Load video related features first\n",
        "# it helps with the organization of the video names\n",
        "vid = labels.video.values\n",
        "HMP_Features = pd.DataFrame({'video': vid,\n",
        "                   'HMP': [read_HMP(HMP_Feat_path+'HMP'+'/'+os.path.splitext(item)[0]+'.txt') for item in vid],\n",
        "                   })"
      ],
      "execution_count": 0,
      "outputs": []
    },
    {
      "cell_type": "code",
      "metadata": {
        "id": "g3i1YobItQ2b",
        "colab_type": "code",
        "outputId": "1e8e4eb5-67e5-4583-92e3-a6efe9df3b58",
        "colab": {
          "base_uri": "https://localhost:8080/",
          "height": 195
        }
      },
      "source": [
        "# Displaying the HMP features\n",
        "HMP_Features.head()"
      ],
      "execution_count": 0,
      "outputs": [
        {
          "output_type": "execute_result",
          "data": {
            "text/html": [
              "<div>\n",
              "<style scoped>\n",
              "    .dataframe tbody tr th:only-of-type {\n",
              "        vertical-align: middle;\n",
              "    }\n",
              "\n",
              "    .dataframe tbody tr th {\n",
              "        vertical-align: top;\n",
              "    }\n",
              "\n",
              "    .dataframe thead th {\n",
              "        text-align: right;\n",
              "    }\n",
              "</style>\n",
              "<table border=\"1\" class=\"dataframe\">\n",
              "  <thead>\n",
              "    <tr style=\"text-align: right;\">\n",
              "      <th></th>\n",
              "      <th>video</th>\n",
              "      <th>HMP</th>\n",
              "    </tr>\n",
              "  </thead>\n",
              "  <tbody>\n",
              "    <tr>\n",
              "      <th>0</th>\n",
              "      <td>video3.webm</td>\n",
              "      <td>[0.125563, 0.024036, 0.000314, 0.0, 0.015864, ...</td>\n",
              "    </tr>\n",
              "    <tr>\n",
              "      <th>1</th>\n",
              "      <td>video4.webm</td>\n",
              "      <td>[0.007526, 0.001421, 6.8e-05, 0.0, 0.001184, 0...</td>\n",
              "    </tr>\n",
              "    <tr>\n",
              "      <th>2</th>\n",
              "      <td>video6.webm</td>\n",
              "      <td>[0.109584, 0.018978, 0.000289, 0.0, 0.008774, ...</td>\n",
              "    </tr>\n",
              "    <tr>\n",
              "      <th>3</th>\n",
              "      <td>video8.webm</td>\n",
              "      <td>[0.120431, 0.013561, 0.000277, 0.0, 0.018974, ...</td>\n",
              "    </tr>\n",
              "    <tr>\n",
              "      <th>4</th>\n",
              "      <td>video10.webm</td>\n",
              "      <td>[0.005026, 0.001356, 5.5e-05, 0.0, 0.000665, 2...</td>\n",
              "    </tr>\n",
              "  </tbody>\n",
              "</table>\n",
              "</div>"
            ],
            "text/plain": [
              "          video                                                HMP\n",
              "0   video3.webm  [0.125563, 0.024036, 0.000314, 0.0, 0.015864, ...\n",
              "1   video4.webm  [0.007526, 0.001421, 6.8e-05, 0.0, 0.001184, 0...\n",
              "2   video6.webm  [0.109584, 0.018978, 0.000289, 0.0, 0.008774, ...\n",
              "3   video8.webm  [0.120431, 0.013561, 0.000277, 0.0, 0.018974, ...\n",
              "4  video10.webm  [0.005026, 0.001356, 5.5e-05, 0.0, 0.000665, 2..."
            ]
          },
          "metadata": {
            "tags": []
          },
          "execution_count": 41
        }
      ]
    },
    {
      "cell_type": "markdown",
      "metadata": {
        "id": "pcpmRDo8tYov",
        "colab_type": "text"
      },
      "source": [
        "# **X and Y values of the prediction**\n",
        "\n",
        "1.   HMP feature is the X variable [Captions]\n",
        "2.   predictor is the Y variable [Memorability scores for short and long terms]"
      ]
    },
    {
      "cell_type": "code",
      "metadata": {
        "id": "-1TccZz3tpv3",
        "colab_type": "code",
        "colab": {}
      },
      "source": [
        "predictor = labels[['short-term_memorability', 'long-term_memorability']].values\n",
        "HMP_Y = predictor\n",
        "HMP_X = np.stack(HMP_Features['HMP'].values)"
      ],
      "execution_count": 0,
      "outputs": []
    },
    {
      "cell_type": "markdown",
      "metadata": {
        "id": "Oap8FH9mt359",
        "colab_type": "text"
      },
      "source": [
        "# **Train and Test Split**\n",
        "\n",
        "1.   In this the dataset is splitted into the training and the test set\n",
        "2.   short term and long term scores are the target values"
      ]
    },
    {
      "cell_type": "code",
      "metadata": {
        "id": "4x4CHOQvGBaZ",
        "colab_type": "code",
        "colab": {}
      },
      "source": [
        "HMP_X_train, HMP_X_test, HMP_Y_train, HMP_Y_test = train_test_split(HMP_X,HMP_Y, test_size=0.2, random_state=42)"
      ],
      "execution_count": 0,
      "outputs": []
    },
    {
      "cell_type": "code",
      "metadata": {
        "id": "vVhXCSc0uLoS",
        "colab_type": "code",
        "outputId": "cc39f29e-3eec-4bb0-f2ce-8e008e96dfaf",
        "colab": {
          "base_uri": "https://localhost:8080/",
          "height": 84
        }
      },
      "source": [
        "# Displaying the shape of train and test sets\n",
        "print('X_train', HMP_X_train.shape)\n",
        "print('X_test', HMP_X_test.shape)\n",
        "print('Y_train', HMP_Y_train.shape)\n",
        "print('Y_test', HMP_Y_test.shape)"
      ],
      "execution_count": 0,
      "outputs": [
        {
          "output_type": "stream",
          "text": [
            "X_train (4800, 6075)\n",
            "X_test (1200, 6075)\n",
            "Y_train (4800, 2)\n",
            "Y_test (1200, 2)\n"
          ],
          "name": "stdout"
        }
      ]
    },
    {
      "cell_type": "markdown",
      "metadata": {
        "id": "Xnba2QvmuUzJ",
        "colab_type": "text"
      },
      "source": [
        "# **RNN model building using HMP feature**"
      ]
    },
    {
      "cell_type": "code",
      "metadata": {
        "id": "FrKgPDHxKIwc",
        "colab_type": "code",
        "colab": {}
      },
      "source": [
        "# Creating Sequential Neural Network\n",
        "HMP_model = Sequential()\n",
        "\n",
        "# Adding Layers of 200 neurons\n",
        "HMP_model.add(layers.Dense(200,activation='relu',kernel_regularizer=None,input_shape=(HMP_X.shape[1],)))\n",
        "\n",
        "# Dropout layer\n",
        "HMP_model.add(layers.Dropout(0.1))\n",
        "\n",
        "# Output Layer of 2 neurons for each score\n",
        "HMP_model.add(layers.Dense(2,activation='sigmoid'))"
      ],
      "execution_count": 0,
      "outputs": []
    },
    {
      "cell_type": "markdown",
      "metadata": {
        "id": "pwxd0SqGut5t",
        "colab_type": "text"
      },
      "source": [
        "# **Compiling the RNN model**"
      ]
    },
    {
      "cell_type": "code",
      "metadata": {
        "id": "5tr2zyb-HFlp",
        "colab_type": "code",
        "colab": {}
      },
      "source": [
        "# Compiling the model\n",
        "HMP_model.compile(optimizer = 'adamax', loss = 'mse', metrics = ['accuracy'])"
      ],
      "execution_count": 0,
      "outputs": []
    },
    {
      "cell_type": "markdown",
      "metadata": {
        "id": "WedXk2Y-u2kq",
        "colab_type": "text"
      },
      "source": [
        "# **Training the RNN Model on HMP**"
      ]
    },
    {
      "cell_type": "code",
      "metadata": {
        "id": "oc-XpSaEHF9c",
        "colab_type": "code",
        "outputId": "ac2019c4-90ef-4a2f-907b-593bcfd98bf3",
        "colab": {
          "base_uri": "https://localhost:8080/",
          "height": 370
        }
      },
      "source": [
        "history_HMP=HMP_model.fit(x=HMP_X_train,y=HMP_Y_train,batch_size=50,epochs=10,validation_split=0.2,shuffle=True,verbose=True)"
      ],
      "execution_count": 0,
      "outputs": [
        {
          "output_type": "stream",
          "text": [
            "Train on 3840 samples, validate on 960 samples\n",
            "Epoch 1/10\n",
            "3840/3840 [==============================] - 1s 136us/step - loss: 0.0409 - accuracy: 0.7089 - val_loss: 0.0133 - val_accuracy: 0.6812\n",
            "Epoch 2/10\n",
            "3840/3840 [==============================] - 0s 102us/step - loss: 0.0137 - accuracy: 0.7091 - val_loss: 0.0133 - val_accuracy: 0.6812\n",
            "Epoch 3/10\n",
            "3840/3840 [==============================] - 0s 103us/step - loss: 0.0137 - accuracy: 0.7091 - val_loss: 0.0133 - val_accuracy: 0.6812\n",
            "Epoch 4/10\n",
            "3840/3840 [==============================] - 0s 107us/step - loss: 0.0137 - accuracy: 0.7091 - val_loss: 0.0133 - val_accuracy: 0.6812\n",
            "Epoch 5/10\n",
            "3840/3840 [==============================] - 0s 98us/step - loss: 0.0137 - accuracy: 0.7091 - val_loss: 0.0132 - val_accuracy: 0.6812\n",
            "Epoch 6/10\n",
            "3840/3840 [==============================] - 0s 91us/step - loss: 0.0137 - accuracy: 0.7091 - val_loss: 0.0132 - val_accuracy: 0.6812\n",
            "Epoch 7/10\n",
            "3840/3840 [==============================] - 0s 93us/step - loss: 0.0136 - accuracy: 0.7091 - val_loss: 0.0132 - val_accuracy: 0.6812\n",
            "Epoch 8/10\n",
            "3840/3840 [==============================] - 0s 89us/step - loss: 0.0136 - accuracy: 0.7091 - val_loss: 0.0132 - val_accuracy: 0.6812\n",
            "Epoch 9/10\n",
            "3840/3840 [==============================] - 0s 89us/step - loss: 0.0136 - accuracy: 0.7091 - val_loss: 0.0131 - val_accuracy: 0.6812\n",
            "Epoch 10/10\n",
            "3840/3840 [==============================] - 0s 93us/step - loss: 0.0135 - accuracy: 0.7091 - val_loss: 0.0131 - val_accuracy: 0.6812\n"
          ],
          "name": "stdout"
        }
      ]
    },
    {
      "cell_type": "markdown",
      "metadata": {
        "id": "izuEOeYVvEKQ",
        "colab_type": "text"
      },
      "source": [
        "# **Vizualizing the model**\n",
        "\n",
        "\n",
        "1.   Plotting the graph of training loss and validation loss\n",
        "2.   Plotting the graph of training accuracy and validation accuracy"
      ]
    },
    {
      "cell_type": "code",
      "metadata": {
        "id": "RgEF5KpfvRkk",
        "colab_type": "code",
        "outputId": "c6a22a5e-5fd9-41ee-9e79-aa32b9a1afd6",
        "colab": {
          "base_uri": "https://localhost:8080/",
          "height": 573
        }
      },
      "source": [
        "loss =history_HMP.history['loss']\n",
        "val_loss = history_HMP.history['val_loss']\n",
        "epochs = range(1, len(loss) + 1)\n",
        "plt.plot(epochs,loss,'bo',label='Training loss')\n",
        "plt.plot(epochs,val_loss,'b',label='Validation loss')\n",
        "plt.title('Training and Validation loss of RNN')\n",
        "plt.xlabel('Epochs')\n",
        "\n",
        "plt.ylabel('Loss')\n",
        "plt.legend()\n",
        "plt.show()\n",
        "\n",
        "plt.figure()\n",
        "acc = history_HMP.history['accuracy']\n",
        "val_acc = history_HMP.history['val_accuracy']\n",
        "plt.plot(epochs, acc, 'bo', label='Training accuracy')\n",
        "plt.plot(epochs, val_acc, 'b', label='Validation accuracy')\n",
        "plt.title('Training and validation accuracy of RNN')\n",
        "plt.xlabel('Epochs')\n",
        "plt.ylabel('Accuracy')\n",
        "plt.legend()\n",
        "plt.show()"
      ],
      "execution_count": 0,
      "outputs": [
        {
          "output_type": "display_data",
          "data": {
            "image/png": "[encoded data removed]",
            "text/plain": [
              "<Figure size 432x288 with 1 Axes>"
            ]
          },
          "metadata": {
            "tags": [],
            "needs_background": "light"
          }
        },
        {
          "output_type": "display_data",
          "data": {
            "image/png": "[encoded data removed]",
            "text/plain": [
              "<Figure size 432x288 with 1 Axes>"
            ]
          },
          "metadata": {
            "tags": [],
            "needs_background": "light"
          }
        }
      ]
    },
    {
      "cell_type": "markdown",
      "metadata": {
        "id": "s19ocVecvdfv",
        "colab_type": "text"
      },
      "source": [
        "# **Predicting the values on the model trained**"
      ]
    },
    {
      "cell_type": "code",
      "metadata": {
        "id": "th0cf0XCHMfi",
        "colab_type": "code",
        "outputId": "79e81d7f-defb-4ba1-faec-970f119326db",
        "colab": {
          "base_uri": "https://localhost:8080/",
          "height": 34
        }
      },
      "source": [
        "HMP_Y_pred = HMP_model.predict(HMP_X_test)\n",
        "HMP_Y_pred.shape"
      ],
      "execution_count": 0,
      "outputs": [
        {
          "output_type": "execute_result",
          "data": {
            "text/plain": [
              "(1200, 2)"
            ]
          },
          "metadata": {
            "tags": []
          },
          "execution_count": 49
        }
      ]
    },
    {
      "cell_type": "code",
      "metadata": {
        "id": "Lmt6RApqvmVK",
        "colab_type": "code",
        "outputId": "a960af0b-14d3-452a-b7de-12d911c50c20",
        "colab": {
          "base_uri": "https://localhost:8080/",
          "height": 134
        }
      },
      "source": [
        "# Displaying the results\n",
        "HMP_Y_pred"
      ],
      "execution_count": 0,
      "outputs": [
        {
          "output_type": "execute_result",
          "data": {
            "text/plain": [
              "array([[0.86993694, 0.79085743],\n",
              "       [0.85495013, 0.7676166 ],\n",
              "       [0.8699485 , 0.7850887 ],\n",
              "       ...,\n",
              "       [0.8705095 , 0.7822399 ],\n",
              "       [0.8669354 , 0.7787228 ],\n",
              "       [0.85883665, 0.7739232 ]], dtype=float32)"
            ]
          },
          "metadata": {
            "tags": []
          },
          "execution_count": 50
        }
      ]
    },
    {
      "cell_type": "markdown",
      "metadata": {
        "id": "BjvZQ9brvstL",
        "colab_type": "text"
      },
      "source": [
        "# **Spearman Score calculation for the model**"
      ]
    },
    {
      "cell_type": "code",
      "metadata": {
        "id": "uGaIS-2cHPpz",
        "colab_type": "code",
        "outputId": "c8208c57-0c33-40cb-85e5-e653a12709bc",
        "colab": {
          "base_uri": "https://localhost:8080/",
          "height": 118
        }
      },
      "source": [
        "Spearman_Coefficient = scipy.stats.spearmanr(HMP_Y_pred, C3D_Y_test)[0]\n",
        "print(Spearman_Coefficient)\n",
        "print(\"Short-term:\", Spearman_Coefficient[2][1])\n",
        "print(\"Long-term:\", Spearman_Coefficient[3][1])"
      ],
      "execution_count": 0,
      "outputs": [
        {
          "output_type": "stream",
          "text": [
            "[[1.         0.90693787 0.25765488 0.10962696]\n",
            " [0.90693787 1.         0.23908373 0.10827604]\n",
            " [0.25765488 0.23908373 1.         0.34074423]\n",
            " [0.10962696 0.10827604 0.34074423 1.        ]]\n",
            "Short-term: 0.23908373462384086\n",
            "Long-term: 0.10827603758267237\n"
          ],
          "name": "stdout"
        }
      ]
    },
    {
      "cell_type": "markdown",
      "metadata": {
        "id": "Md79441uvv7O",
        "colab_type": "text"
      },
      "source": [
        "# **Conclusion**\n",
        "\n",
        "RNN trained on captions feature outperformed the RNN model trained on C3D and HMP features. The short term and long term Spearman's score for RNN with captions are respectively."
      ]
    },
    {
      "cell_type": "markdown",
      "metadata": {
        "id": "CtcqQJWnn4OH",
        "colab_type": "text"
      },
      "source": [
        "# **Training RNN with captions on the full dev dataset**"
      ]
    },
    {
      "cell_type": "code",
      "metadata": {
        "id": "a-YqNpLan_ze",
        "colab_type": "code",
        "outputId": "79049191-5829-4ac8-a86b-8b302319da24",
        "colab": {
          "base_uri": "https://localhost:8080/",
          "height": 34
        }
      },
      "source": [
        "predictor = labels[['short-term_memorability', 'long-term_memorability']].values\n",
        "Y_total = predictor\n",
        "X_total = X_sequence\n",
        "len(X)"
      ],
      "execution_count": 0,
      "outputs": [
        {
          "output_type": "execute_result",
          "data": {
            "text/plain": [
              "6000"
            ]
          },
          "metadata": {
            "tags": []
          },
          "execution_count": 52
        }
      ]
    },
    {
      "cell_type": "code",
      "metadata": {
        "id": "7Por3TDGoOsH",
        "colab_type": "code",
        "outputId": "bd6b8761-3a55-4151-a84e-63dda1dc2b28",
        "colab": {
          "base_uri": "https://localhost:8080/",
          "height": 70
        }
      },
      "source": [
        "#Creating Sequential Neural Network\n",
        "captions_model = Sequential()\n",
        "\n",
        "# Embedded layer for RNN to map the data\n",
        "captions_model.add(layers.Embedding(input_dim= 5191, output_dim= 20, input_length= 50, init = 'uniform'))\n",
        "\n",
        "# Adding LSTM layer with 150 hidden neurons\n",
        "captions_model.add(layers.LSTM(150, activation = 'selu', recurrent_initializer= 'uniform', kernel_initializer= 'zeros', kernel_regularizer=regularizers.l2(0.001)))\n",
        "captions_model.add(layers.Dropout(0.2))\n",
        "\n",
        "# Adding Layers of 30 neurons to map down the 150 hidden neurons\n",
        "captions_model.add(layers.Dense(30, activation= 'selu', kernel_regularizer=regularizers.l2(0.001)))\n",
        "\n",
        "# Dropout Layer\n",
        "captions_model.add(layers.Dropout(0.6))\n",
        "\n",
        "# Output Layer of 2 neurons for each score\n",
        "captions_model.add(layers.Dense(2, activation= 'sigmoid'))\n",
        "\n",
        "#Compiling the model\n",
        "captions_model.compile(optimizer = 'adamax', loss = 'mse', metrics = ['accuracy'])"
      ],
      "execution_count": 0,
      "outputs": [
        {
          "output_type": "stream",
          "text": [
            "/usr/local/lib/python3.6/dist-packages/ipykernel_launcher.py:4: UserWarning: Update your `Embedding` call to the Keras 2 API: `Embedding(input_dim=5191, output_dim=20, input_length=50, embeddings_initializer=\"uniform\")`\n",
            "  after removing the cwd from sys.path.\n"
          ],
          "name": "stderr"
        }
      ]
    },
    {
      "cell_type": "code",
      "metadata": {
        "id": "MazNzSQGoyiF",
        "colab_type": "code",
        "outputId": "cfb9f040-f4da-40a5-f99d-046dcf3b3acf",
        "colab": {
          "base_uri": "https://localhost:8080/",
          "height": 406
        }
      },
      "source": [
        "Captions_Model = captions_model.fit(X_total, Y_total, epochs= 10)"
      ],
      "execution_count": 0,
      "outputs": [
        {
          "output_type": "stream",
          "text": [
            "/usr/local/lib/python3.6/dist-packages/tensorflow/python/framework/indexed_slices.py:434: UserWarning: Converting sparse IndexedSlices to a dense Tensor of unknown shape. This may consume a large amount of memory.\n",
            "  \"Converting sparse IndexedSlices to a dense Tensor of unknown shape. \"\n"
          ],
          "name": "stderr"
        },
        {
          "output_type": "stream",
          "text": [
            "Epoch 1/10\n",
            "6000/6000 [==============================] - 34s 6ms/step - loss: 0.0462 - accuracy: 0.6687\n",
            "Epoch 2/10\n",
            "6000/6000 [==============================] - 34s 6ms/step - loss: 0.0256 - accuracy: 0.6930\n",
            "Epoch 3/10\n",
            "6000/6000 [==============================] - 33s 5ms/step - loss: 0.0205 - accuracy: 0.7013\n",
            "Epoch 4/10\n",
            "6000/6000 [==============================] - 32s 5ms/step - loss: 0.0186 - accuracy: 0.6995\n",
            "Epoch 5/10\n",
            "6000/6000 [==============================] - 32s 5ms/step - loss: 0.0171 - accuracy: 0.7017\n",
            "Epoch 6/10\n",
            "6000/6000 [==============================] - 33s 5ms/step - loss: 0.0162 - accuracy: 0.7025\n",
            "Epoch 7/10\n",
            "6000/6000 [==============================] - 32s 5ms/step - loss: 0.0154 - accuracy: 0.7033\n",
            "Epoch 8/10\n",
            "6000/6000 [==============================] - 33s 5ms/step - loss: 0.0147 - accuracy: 0.7045\n",
            "Epoch 9/10\n",
            "6000/6000 [==============================] - 33s 6ms/step - loss: 0.0141 - accuracy: 0.7047\n",
            "Epoch 10/10\n",
            "6000/6000 [==============================] - 32s 5ms/step - loss: 0.0140 - accuracy: 0.7047\n"
          ],
          "name": "stdout"
        }
      ]
    },
    {
      "cell_type": "markdown",
      "metadata": {
        "id": "RrpDdZxHbX-f",
        "colab_type": "text"
      },
      "source": [
        "Now that the RNN model with captions is trained on the full dataset, lets proceed to the predictions on the test set of captions."
      ]
    },
    {
      "cell_type": "markdown",
      "metadata": {
        "id": "_zHO0XNYIM6f",
        "colab_type": "text"
      },
      "source": [
        "# **Predicting ground truth on the test set for RNN model with captions**\n",
        "\n",
        "Since RNN with captions outperformed the other two models, so RNN with captions is used for predicting the final ground truth on the test data"
      ]
    },
    {
      "cell_type": "code",
      "metadata": {
        "id": "rs9eC6M5HUvs",
        "colab_type": "code",
        "colab": {}
      },
      "source": [
        "# load the captions\n",
        "\n",
        "Test_caps_path = '/content/drive/My Drive/CA684_Assignment/Test-set/Captions_test/test-set-1_video-captions.txt'\n",
        "df_test=read_caps(Test_caps_path)"
      ],
      "execution_count": 0,
      "outputs": []
    },
    {
      "cell_type": "code",
      "metadata": {
        "id": "iML79HtUdha2",
        "colab_type": "code",
        "outputId": "0fdf59f8-aa54-40f9-d3b6-6f96adc72cc7",
        "colab": {
          "base_uri": "https://localhost:8080/",
          "height": 195
        }
      },
      "source": [
        "df_test.head()"
      ],
      "execution_count": 0,
      "outputs": [
        {
          "output_type": "execute_result",
          "data": {
            "text/html": [
              "<div>\n",
              "<style scoped>\n",
              "    .dataframe tbody tr th:only-of-type {\n",
              "        vertical-align: middle;\n",
              "    }\n",
              "\n",
              "    .dataframe tbody tr th {\n",
              "        vertical-align: top;\n",
              "    }\n",
              "\n",
              "    .dataframe thead th {\n",
              "        text-align: right;\n",
              "    }\n",
              "</style>\n",
              "<table border=\"1\" class=\"dataframe\">\n",
              "  <thead>\n",
              "    <tr style=\"text-align: right;\">\n",
              "      <th></th>\n",
              "      <th>video</th>\n",
              "      <th>caption</th>\n",
              "    </tr>\n",
              "  </thead>\n",
              "  <tbody>\n",
              "    <tr>\n",
              "      <th>0</th>\n",
              "      <td>video7494.webm</td>\n",
              "      <td>green-jeep-struggling-to-drive-over-huge-rocks</td>\n",
              "    </tr>\n",
              "    <tr>\n",
              "      <th>1</th>\n",
              "      <td>video7495.webm</td>\n",
              "      <td>hiking-woman-tourist-is-walking-forward-in-mou...</td>\n",
              "    </tr>\n",
              "    <tr>\n",
              "      <th>2</th>\n",
              "      <td>video7496.webm</td>\n",
              "      <td>close-up-of-african-american-doctors-hands-usi...</td>\n",
              "    </tr>\n",
              "    <tr>\n",
              "      <th>3</th>\n",
              "      <td>video7497.webm</td>\n",
              "      <td>slow-motion-of-a-man-using-treadmill-in-the-gy...</td>\n",
              "    </tr>\n",
              "    <tr>\n",
              "      <th>4</th>\n",
              "      <td>video7498.webm</td>\n",
              "      <td>slow-motion-of-photographer-in-national-park</td>\n",
              "    </tr>\n",
              "  </tbody>\n",
              "</table>\n",
              "</div>"
            ],
            "text/plain": [
              "            video                                            caption\n",
              "0  video7494.webm     green-jeep-struggling-to-drive-over-huge-rocks\n",
              "1  video7495.webm  hiking-woman-tourist-is-walking-forward-in-mou...\n",
              "2  video7496.webm  close-up-of-african-american-doctors-hands-usi...\n",
              "3  video7497.webm  slow-motion-of-a-man-using-treadmill-in-the-gy...\n",
              "4  video7498.webm       slow-motion-of-photographer-in-national-park"
            ]
          },
          "metadata": {
            "tags": []
          },
          "execution_count": 56
        }
      ]
    },
    {
      "cell_type": "code",
      "metadata": {
        "id": "zq4zj9qLJdoz",
        "colab_type": "code",
        "colab": {}
      },
      "source": [
        "# Loading the ground truth\n",
        "test_ground_truth=pd.read_csv('/content/drive/My Drive/CA684_Assignment/Test-set/Ground-truth_test/ground_truth_template.csv')"
      ],
      "execution_count": 0,
      "outputs": []
    },
    {
      "cell_type": "code",
      "metadata": {
        "id": "VFEck3q1Jsnx",
        "colab_type": "code",
        "outputId": "de0ba2ea-c1aa-4bb5-b762-4aeb7f3b9568",
        "colab": {
          "base_uri": "https://localhost:8080/",
          "height": 195
        }
      },
      "source": [
        "test_ground_truth.head()"
      ],
      "execution_count": 0,
      "outputs": [
        {
          "output_type": "execute_result",
          "data": {
            "text/html": [
              "<div>\n",
              "<style scoped>\n",
              "    .dataframe tbody tr th:only-of-type {\n",
              "        vertical-align: middle;\n",
              "    }\n",
              "\n",
              "    .dataframe tbody tr th {\n",
              "        vertical-align: top;\n",
              "    }\n",
              "\n",
              "    .dataframe thead th {\n",
              "        text-align: right;\n",
              "    }\n",
              "</style>\n",
              "<table border=\"1\" class=\"dataframe\">\n",
              "  <thead>\n",
              "    <tr style=\"text-align: right;\">\n",
              "      <th></th>\n",
              "      <th>video</th>\n",
              "      <th>short-term_memorability</th>\n",
              "      <th>nb_short-term_annotations</th>\n",
              "      <th>long-term_memorability</th>\n",
              "      <th>nb_long-term_annotations</th>\n",
              "    </tr>\n",
              "  </thead>\n",
              "  <tbody>\n",
              "    <tr>\n",
              "      <th>0</th>\n",
              "      <td>7494</td>\n",
              "      <td>NaN</td>\n",
              "      <td>33</td>\n",
              "      <td>NaN</td>\n",
              "      <td>12</td>\n",
              "    </tr>\n",
              "    <tr>\n",
              "      <th>1</th>\n",
              "      <td>7495</td>\n",
              "      <td>NaN</td>\n",
              "      <td>34</td>\n",
              "      <td>NaN</td>\n",
              "      <td>10</td>\n",
              "    </tr>\n",
              "    <tr>\n",
              "      <th>2</th>\n",
              "      <td>7496</td>\n",
              "      <td>NaN</td>\n",
              "      <td>32</td>\n",
              "      <td>NaN</td>\n",
              "      <td>13</td>\n",
              "    </tr>\n",
              "    <tr>\n",
              "      <th>3</th>\n",
              "      <td>7497</td>\n",
              "      <td>NaN</td>\n",
              "      <td>33</td>\n",
              "      <td>NaN</td>\n",
              "      <td>10</td>\n",
              "    </tr>\n",
              "    <tr>\n",
              "      <th>4</th>\n",
              "      <td>7498</td>\n",
              "      <td>NaN</td>\n",
              "      <td>33</td>\n",
              "      <td>NaN</td>\n",
              "      <td>10</td>\n",
              "    </tr>\n",
              "  </tbody>\n",
              "</table>\n",
              "</div>"
            ],
            "text/plain": [
              "   video  ...  nb_long-term_annotations\n",
              "0   7494  ...                        12\n",
              "1   7495  ...                        10\n",
              "2   7496  ...                        13\n",
              "3   7497  ...                        10\n",
              "4   7498  ...                        10\n",
              "\n",
              "[5 rows x 5 columns]"
            ]
          },
          "metadata": {
            "tags": []
          },
          "execution_count": 58
        }
      ]
    },
    {
      "cell_type": "markdown",
      "metadata": {
        "id": "_3z9nDEad59U",
        "colab_type": "text"
      },
      "source": [
        "# **Data Preprocessing on the test set** "
      ]
    },
    {
      "cell_type": "code",
      "metadata": {
        "id": "tL8R6xhbdmc_",
        "colab_type": "code",
        "colab": {}
      },
      "source": [
        "word_count_test = Counter()\n",
        "for i, caption in enumerate(df_test['caption']):\n",
        "  text = ''.join([c if c not in punctuation else ' ' for c in caption]).lower()\n",
        "  df_test.loc[i, 'caption'] = text\n",
        "  word_count_test.update(text.split())"
      ],
      "execution_count": 0,
      "outputs": []
    },
    {
      "cell_type": "code",
      "metadata": {
        "id": "hYfEbzxxdz3_",
        "colab_type": "code",
        "outputId": "ba69a03b-d6fe-4de7-e5d6-f9a3b6cb47a4",
        "colab": {
          "base_uri": "https://localhost:8080/",
          "height": 195
        }
      },
      "source": [
        "# Displaying the caption values\n",
        "df_test.head()"
      ],
      "execution_count": 0,
      "outputs": [
        {
          "output_type": "execute_result",
          "data": {
            "text/html": [
              "<div>\n",
              "<style scoped>\n",
              "    .dataframe tbody tr th:only-of-type {\n",
              "        vertical-align: middle;\n",
              "    }\n",
              "\n",
              "    .dataframe tbody tr th {\n",
              "        vertical-align: top;\n",
              "    }\n",
              "\n",
              "    .dataframe thead th {\n",
              "        text-align: right;\n",
              "    }\n",
              "</style>\n",
              "<table border=\"1\" class=\"dataframe\">\n",
              "  <thead>\n",
              "    <tr style=\"text-align: right;\">\n",
              "      <th></th>\n",
              "      <th>video</th>\n",
              "      <th>caption</th>\n",
              "    </tr>\n",
              "  </thead>\n",
              "  <tbody>\n",
              "    <tr>\n",
              "      <th>0</th>\n",
              "      <td>video7494.webm</td>\n",
              "      <td>green jeep struggling to drive over huge rocks</td>\n",
              "    </tr>\n",
              "    <tr>\n",
              "      <th>1</th>\n",
              "      <td>video7495.webm</td>\n",
              "      <td>hiking woman tourist is walking forward in mou...</td>\n",
              "    </tr>\n",
              "    <tr>\n",
              "      <th>2</th>\n",
              "      <td>video7496.webm</td>\n",
              "      <td>close up of african american doctors hands usi...</td>\n",
              "    </tr>\n",
              "    <tr>\n",
              "      <th>3</th>\n",
              "      <td>video7497.webm</td>\n",
              "      <td>slow motion of a man using treadmill in the gy...</td>\n",
              "    </tr>\n",
              "    <tr>\n",
              "      <th>4</th>\n",
              "      <td>video7498.webm</td>\n",
              "      <td>slow motion of photographer in national park</td>\n",
              "    </tr>\n",
              "  </tbody>\n",
              "</table>\n",
              "</div>"
            ],
            "text/plain": [
              "            video                                            caption\n",
              "0  video7494.webm     green jeep struggling to drive over huge rocks\n",
              "1  video7495.webm  hiking woman tourist is walking forward in mou...\n",
              "2  video7496.webm  close up of african american doctors hands usi...\n",
              "3  video7497.webm  slow motion of a man using treadmill in the gy...\n",
              "4  video7498.webm       slow motion of photographer in national park"
            ]
          },
          "metadata": {
            "tags": []
          },
          "execution_count": 60
        }
      ]
    },
    {
      "cell_type": "markdown",
      "metadata": {
        "id": "BCcftUE6eN6Y",
        "colab_type": "text"
      },
      "source": [
        "# **Text Mapping on test set**"
      ]
    },
    {
      "cell_type": "code",
      "metadata": {
        "id": "Or8RwKseeD_P",
        "colab_type": "code",
        "outputId": "058aca8f-3737-426a-a5bb-60e7cda984eb",
        "colab": {
          "base_uri": "https://localhost:8080/",
          "height": 34
        }
      },
      "source": [
        "length_token_test = len(word_count)\n",
        "tokenizer_test = Tokenizer(num_words= length_token)\n",
        "print(length_token_test)"
      ],
      "execution_count": 0,
      "outputs": [
        {
          "output_type": "stream",
          "text": [
            "5191\n"
          ],
          "name": "stdout"
        }
      ]
    },
    {
      "cell_type": "code",
      "metadata": {
        "id": "lA6GaB1QeXyR",
        "colab_type": "code",
        "colab": {}
      },
      "source": [
        "# Tokenizing the test set captions into integers\n",
        "tokenizer_test.fit_on_texts(list(df_test.caption.values))"
      ],
      "execution_count": 0,
      "outputs": []
    },
    {
      "cell_type": "markdown",
      "metadata": {
        "id": "s6S7NrvDeh-b",
        "colab_type": "text"
      },
      "source": [
        "# **Text to word sequence on test set**"
      ]
    },
    {
      "cell_type": "code",
      "metadata": {
        "id": "nMmauvNcedPw",
        "colab_type": "code",
        "colab": {}
      },
      "source": [
        "Test_sequences = tokenizer.texts_to_sequences(list(df_test.caption.values))"
      ],
      "execution_count": 0,
      "outputs": []
    },
    {
      "cell_type": "code",
      "metadata": {
        "id": "7fx4_0FWenUy",
        "colab_type": "code",
        "outputId": "389fc0d4-5844-4ea1-bc3c-e6074563f81f",
        "colab": {
          "base_uri": "https://localhost:8080/",
          "height": 34
        }
      },
      "source": [
        "len(Test_sequences)"
      ],
      "execution_count": 0,
      "outputs": [
        {
          "output_type": "execute_result",
          "data": {
            "text/plain": [
              "2000"
            ]
          },
          "metadata": {
            "tags": []
          },
          "execution_count": 64
        }
      ]
    },
    {
      "cell_type": "code",
      "metadata": {
        "id": "jjwHfvPxeoWI",
        "colab_type": "code",
        "outputId": "7c65e28f-2fdb-43fe-fd5c-dfebbaf62aa6",
        "colab": {
          "base_uri": "https://localhost:8080/",
          "height": 34
        }
      },
      "source": [
        " maximum_length = 50\n",
        "X_test_sequence = np.zeros((len(Test_sequences),maximum_length))\n",
        "for i in range(len(Test_sequences)):\n",
        "  n = len(Test_sequences[i])\n",
        "  if n == 0:\n",
        "    print(i)\n",
        "  else:\n",
        "    X_test_sequence[i,-n:] = Test_sequences[i]\n",
        "\n",
        "X_test_sequence.shape"
      ],
      "execution_count": 0,
      "outputs": [
        {
          "output_type": "execute_result",
          "data": {
            "text/plain": [
              "(2000, 50)"
            ]
          },
          "metadata": {
            "tags": []
          },
          "execution_count": 65
        }
      ]
    },
    {
      "cell_type": "code",
      "metadata": {
        "id": "_SeSSWyRevr2",
        "colab_type": "code",
        "outputId": "0bb22250-3ddd-4f12-ebce-1f4a6e36b54d",
        "colab": {
          "base_uri": "https://localhost:8080/",
          "height": 34
        }
      },
      "source": [
        "X_testpredict = X_test_sequence\n",
        "len(X_test_sequence)"
      ],
      "execution_count": 0,
      "outputs": [
        {
          "output_type": "execute_result",
          "data": {
            "text/plain": [
              "2000"
            ]
          },
          "metadata": {
            "tags": []
          },
          "execution_count": 66
        }
      ]
    },
    {
      "cell_type": "markdown",
      "metadata": {
        "id": "cpTKsDY14uRX",
        "colab_type": "text"
      },
      "source": [
        "# **Predicting on the test set** "
      ]
    },
    {
      "cell_type": "code",
      "metadata": {
        "id": "ZTWvXdYZe9H-",
        "colab_type": "code",
        "colab": {}
      },
      "source": [
        "Test_predictions = captions_model.predict(X_testpredict)"
      ],
      "execution_count": 0,
      "outputs": []
    },
    {
      "cell_type": "code",
      "metadata": {
        "id": "bCSWMnTBfMNO",
        "colab_type": "code",
        "outputId": "50f9ae9b-6143-4ea1-f016-fd60f154b48d",
        "colab": {
          "base_uri": "https://localhost:8080/",
          "height": 134
        }
      },
      "source": [
        "# Displaying the predictions\n",
        "Test_predictions"
      ],
      "execution_count": 0,
      "outputs": [
        {
          "output_type": "execute_result",
          "data": {
            "text/plain": [
              "array([[0.82067907, 0.731724  ],\n",
              "       [0.9078254 , 0.82126325],\n",
              "       [0.9289367 , 0.8478104 ],\n",
              "       ...,\n",
              "       [0.8845434 , 0.7949367 ],\n",
              "       [0.9108317 , 0.8250873 ],\n",
              "       [0.9402675 , 0.863428  ]], dtype=float32)"
            ]
          },
          "metadata": {
            "tags": []
          },
          "execution_count": 68
        }
      ]
    },
    {
      "cell_type": "markdown",
      "metadata": {
        "id": "LWCMPEHV43lk",
        "colab_type": "text"
      },
      "source": [
        "# **Saving the results to a .csv file**"
      ]
    },
    {
      "cell_type": "code",
      "metadata": {
        "id": "rhfQKTgCfR1S",
        "colab_type": "code",
        "colab": {}
      },
      "source": [
        "# Saving the results to a csv file\n",
        "prediction = pd.DataFrame(Test_predictions, columns=['Short_term_score','Long_term_score']).to_csv('/content/Results/Results.csv')\n"
      ],
      "execution_count": 0,
      "outputs": []
    },
    {
      "cell_type": "code",
      "metadata": {
        "id": "mnz1_gf8qfGF",
        "colab_type": "code",
        "colab": {}
      },
      "source": [
        "# Saving the model\n",
        "model.save('/content/Results/RNN with captions model.h5')  # creates a HDF5 file 'RNN with captions model.h5'"
      ],
      "execution_count": 0,
      "outputs": []
    }
  ]
}